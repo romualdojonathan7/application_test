{
  "nbformat": 4,
  "nbformat_minor": 0,
  "metadata": {
    "colab": {
      "provenance": [],
      "authorship_tag": "ABX9TyNnSxGjiO6LeLXbrk9Cv3eQ",
      "include_colab_link": true
    },
    "kernelspec": {
      "name": "python3",
      "display_name": "Python 3"
    },
    "language_info": {
      "name": "python"
    }
  },
  "cells": [
    {
      "cell_type": "markdown",
      "metadata": {
        "id": "view-in-github",
        "colab_type": "text"
      },
      "source": [
        "<a href=\"https://colab.research.google.com/github/romualdojonathan7/application_test/blob/main/monitoramento_agendas.ipynb\" target=\"_parent\"><img src=\"https://colab.research.google.com/assets/colab-badge.svg\" alt=\"Open In Colab\"/></a>"
      ]
    },
    {
      "cell_type": "markdown",
      "source": [
        "# **Monitoramento de Agendas**\n",
        "\n",
        "\n",
        "*Objetivos*:\n",
        "1.   agenda contratada x agenda ofertada;"
      ],
      "metadata": {
        "id": "IgTM7BoV9iY2"
      }
    },
    {
      "cell_type": "code",
      "execution_count": 1,
      "metadata": {
        "id": "7ZxAV5aKSQ6Z"
      },
      "outputs": [],
      "source": [
        "import sys\n",
        "import psycopg2\n",
        "import pandas as pd\n",
        "import datetime as dt\n",
        "from datetime import timedelta as td\n",
        "import numpy as np"
      ]
    },
    {
      "cell_type": "markdown",
      "source": [
        "* connect(database): Conexão com o banco de dados\n",
        "* connect_dbTable(tableName, dbConnection, dtype=None): Selecionar uma tabela\n",
        "* dict_replace(array, df_dict):replace a dictionary in a column dataframe"
      ],
      "metadata": {
        "id": "mEvP_XsDGkii"
      }
    },
    {
      "cell_type": "code",
      "execution_count": 2,
      "metadata": {
        "id": "z9ZZ4uTHE5QD"
      },
      "outputs": [],
      "source": [
        "def connect(database):\n",
        "    \"\"\" Connect to the PostgreSQL database server \"\"\"\n",
        "    connector = None\n",
        "\n",
        "    try:\n",
        "        # read connection parameters\n",
        "        #parameters = config()\n",
        "\n",
        "        # connect to the PostgreSQL server\n",
        "        print('Connecting to the PostgreSQL database...')\n",
        "        connector = psycopg2.connect(\n",
        "            database=database,\n",
        "            host=\"sias-campinas-producao.c9yiqiksj92l.sa-east-1.rds.amazonaws.com\",\n",
        "            user=\"powerbi\",\n",
        "            password=\"3A2qeYWXkjBOfWAuUdKH\",\n",
        "            port=\"5432\"\n",
        "        )\n",
        "\n",
        "    except (Exception, psycopg2.DatabaseError) as error:\n",
        "        print(error)\n",
        "        sys.exit(1) \n",
        "\n",
        "    print(\"Connection successful\")\n",
        "    return connector\n",
        "\n",
        "def connect_dbTable(tableName, dbConnection, dtype=None):\n",
        "    \n",
        "    # Testando a conexão\n",
        "    df_sql = f\"\"\" select * from \"{tableName}\" \"\"\"\n",
        "    df = pd.read_sql(df_sql, dbConnection);\n",
        "    \n",
        "    pd.set_option('display.expand_frame_repr', False);\n",
        "    \n",
        "    if pd.notnull(dtype):\n",
        "        for i in dtype:\n",
        "            if i in df.columns:\n",
        "                df[i] = df[i].astype(dtype[i])\n",
        "\n",
        "    return(df)\n",
        "\n",
        "def dict_replace(array, dfDict, dictPosition=None):\n",
        "    new_array = array\n",
        "    for key, value in dfDict.items():\n",
        "        # print(key)\n",
        "        # print(value)\n",
        "        if pd.notnull(dictPosition):\n",
        "          # print(value[dictPosition])\n",
        "          new_array = new_array.replace(key, value[dictPosition])\n",
        "        else:\n",
        "          new_array = new_array.replace(key, value)\n",
        "    print(new_array)\n",
        "    return new_array\n",
        "\n",
        "convert_to_hours = lambda x: '{:02.0f}:{:02.0f}'.format(x, (x % 1) * 60)"
      ]
    },
    {
      "cell_type": "markdown",
      "source": [
        "## > Conexão com a base e seleção das tabelas"
      ],
      "metadata": {
        "id": "ynwndQWAGUWI"
      }
    },
    {
      "cell_type": "code",
      "source": [
        "# Conectando ao banco de dados\n",
        "dbConnection = connect(\"sias\")"
      ],
      "metadata": {
        "colab": {
          "base_uri": "https://localhost:8080/"
        },
        "id": "d2GTWfWPcChI",
        "outputId": "bedda4c6-92a2-466f-a471-9e3102a0de22"
      },
      "execution_count": 3,
      "outputs": [
        {
          "output_type": "stream",
          "name": "stdout",
          "text": [
            "Connecting to the PostgreSQL database...\n",
            "Connection successful\n"
          ]
        }
      ]
    },
    {
      "cell_type": "code",
      "source": [
        "# Selecionando a tabela que iremos trabalhar\n",
        "schedules = connect_dbTable(\"schedules\", dbConnection, dtype={'schedule_id': str, 'doctor_id': str, 'register_by_id': str, 'uta_id': str, 'specialties_id': str, 'service_list_id': str, 'care_line_list_id': str, })\n",
        "calendar = connect_dbTable(\"calendar\", dbConnection, dtype={'specialties_id': str})"
      ],
      "metadata": {
        "id": "a_ECKJl6GWS6"
      },
      "execution_count": 5,
      "outputs": []
    },
    {
      "cell_type": "code",
      "source": [
        "dbConnection.close();\n",
        "print('Database connection closed.')"
      ],
      "metadata": {
        "colab": {
          "base_uri": "https://localhost:8080/"
        },
        "id": "Bbj2wK6YcTtA",
        "outputId": "bab78a1a-45c1-4d01-a391-40a0e7a1b3c8"
      },
      "execution_count": 6,
      "outputs": [
        {
          "output_type": "stream",
          "name": "stdout",
          "text": [
            "Database connection closed.\n"
          ]
        }
      ]
    },
    {
      "cell_type": "markdown",
      "source": [
        "### 1. Agenda contratada X agenda ofertada\n",
        "\n",
        "\n",
        "*   Comparativo entre a carga horária contrata e a carga horária efetivamente disponibilizada\n",
        "\n"
      ],
      "metadata": {
        "id": "hC5TvwMW90Xz"
      }
    },
    {
      "cell_type": "code",
      "source": [
        "# AGENDA CONTRATADA ------------------------------------------------------------\n",
        "\n",
        "# Transformando os tipos para datetime (caso contrário a operação de subtração não reconheceria os campos)\n",
        "calendar['start'] = pd.to_datetime(calendar['start'])\n",
        "calendar['end'] = pd.to_datetime(calendar['end'])\n",
        "\n",
        "# Fazendo a diferença entre 'end' e 'start'\n",
        "calendar['duration'] = calendar['end'].sub(calendar['start'], axis=0)\n",
        "\n",
        "# Deixando a informação em um padrão que o powerbi entenda\n",
        "calendar['duration_formatted'] = calendar['duration'].apply(lambda x: '{:0d}.{:02d}:{:02d}:{:02d}'.format(int(x.total_seconds() // 86400), int(x.total_seconds() % 86400 // 3600), int(x.total_seconds() % 3600 // 60), int(x.total_seconds() % 60)))"
      ],
      "metadata": {
        "id": "UiLJdHKtCTqW"
      },
      "execution_count": 12,
      "outputs": []
    },
    {
      "cell_type": "markdown",
      "source": [
        "### 3. Detalhamento das agendas publicadas\n",
        "\n",
        "\n",
        "*   Período de vigência;\n",
        "*   Faixa etária (data de hoje - data de nascimento - classificado);\n",
        "*   Procedimento;\n",
        "*   Operador que publicou;\n",
        "*   Quantidade de vagas (colunas dos dias*quantidade de recorrências).\n"
      ],
      "metadata": {
        "id": "Rao8jPmiQTWO"
      }
    },
    {
      "cell_type": "code",
      "source": [
        "# columns = ['sun', 'mon', 'tue', 'wed', 'thu', 'fri', 'sat']\n",
        "\n",
        "# df_schedules['Agendamentos/semana'] = df_schedules[columns].apply(lambda row: (row == True).sum(), axis=1)\n",
        "# df_schedules['quantidade_vagas'] = df_schedules['quantidade_vagas'] * df_schedules['quantidade_recorrencias_dias']"
      ],
      "metadata": {
        "id": "6HG3K-bzboel"
      },
      "execution_count": null,
      "outputs": []
    },
    {
      "cell_type": "code",
      "source": [
        "# 2. Calcular quantos agendamentos tiveram por semana\n",
        "columns = ['sun', 'mon', 'tue', 'wed', 'thu', 'fri', 'sat']\n",
        "schedules['Agendamentos/semana'] = schedules.apply(lambda row: (row[columns] == True).sum() if row['recurring'] != False else 1, axis=1)\n",
        "\n",
        "# 3. Calcular a hora inicial\n",
        "schedules['duration_formatted'] = (schedules['duration'] / 60).abs().apply(convert_to_hours)\n",
        "\n",
        "# 5. Criar coluna \"atual\" para saber os agendamentos a partir de hoje.\n",
        "schedules['atual2'] = schedules.apply(lambda row: ('1' if row['recurringUntil'] >= dt.datetime.now().date() else '0') if row['recurringUntil'] != None else 1, axis=1)\n",
        "\n",
        "# 6. Qtde de dias disponibilizados\n",
        "schedules['quantidade_dias_disponibilizados'] = (schedules['recurringUntil'] - schedules['startingDate']).dt.days\n",
        "schedules['quantidade_dias_disponibilizados'] = schedules['quantidade_dias_disponibilizados'].apply(lambda row: row if row != 0 else 1)\n",
        "\n",
        "# 7. Carga disponibilizada em minutos\n",
        "schedules['dias_total'] = schedules.apply(lambda row: row['quantidade_dias_disponibilizados'] if row['recurring'] != 0 or row['recurringUntil'] != None else 1, axis=1)\n",
        "schedules['carga_minutos'] = schedules[['duration', 'dias_total', 'Agendamentos/semana']].prod(axis=1).abs()\n",
        "\n",
        "# 8.\n",
        "schedules['Agendamentos/semana total'] = schedules['Agendamentos/semana'] * (schedules['dias_total'] / 7)"
      ],
      "metadata": {
        "id": "a7UMB9sQzJ3M"
      },
      "execution_count": 14,
      "outputs": []
    },
    {
      "cell_type": "markdown",
      "source": [
        "## FINAL"
      ],
      "metadata": {
        "id": "B5KO_rmF2Dpm"
      }
    },
    {
      "cell_type": "code",
      "source": [
        "# Conectando ao banco de dados\n",
        "dbConnection = connect(\"sias\")\n",
        "\n",
        "# Selecionando a tabela que iremos trabalhar\n",
        "schedules = connect_dbTable(\"schedules\", dbConnection)\n",
        "calendar = connect_dbTable(\"calendar\", dbConnection)\n",
        "\n",
        "dbConnection.close();\n",
        "print('Database connection closed.')\n",
        "\n",
        "# AGENDA CONTRATADA ------------------------------------------------------------\n",
        "\n",
        "# Transformando os tipos para datetime (caso contrário a operação de subtração não reconheceria os campos)\n",
        "calendar['start'] = pd.to_datetime(calendar['start'])\n",
        "calendar['end'] = pd.to_datetime(calendar['end'])\n",
        "\n",
        "# Fazendo a diferença entre 'end' e 'start'\n",
        "calendar['duration'] = calendar['end'].sub(calendar['start'], axis=0)\n",
        "\n",
        "# Deixando a informação em um padrão que o powerbi entenda\n",
        "calendar['duration_formatted'] = calendar['duration'].apply(lambda x: '{:03d}:{:02d}:{:02d}:{:02d}'.format(int(x.total_seconds() // 86400), int(x.total_seconds() % 86400 // 3600), int(x.total_seconds() % 3600 // 60), int(x.total_seconds() % 60)))\n",
        "\n",
        "# ----------------------------------------------------------------------------------------\n",
        "# 2. Calcular quantos agendamentos tiveram por semana\n",
        "columns = ['sun', 'mon', 'tue', 'wed', 'thu', 'fri', 'sat']\n",
        "schedules['Agendamentos/semana'] = schedules.apply(lambda row: (row[columns] == True).sum() if row['recurring'] != False else 1, axis=1)\n",
        "\n",
        "# 3. Calcular a hora inicial\n",
        "schedules['duration_formatted'] = (schedules['duration'] / 60).abs().apply(convert_to_hours)\n",
        "\n",
        "# 5. Criar coluna \"atual\" para saber os agendamentos a partir de hoje.\n",
        "schedules['atual2'] = schedules.apply(lambda row: ('1' if row['recurringUntil'] >= dt.datetime.now().date() else '0') if row['recurringUntil'] != None else 1, axis=1)\n",
        "\n",
        "# 6. Qtde de dias disponibilizados\n",
        "schedules['quantidade_dias_disponibilizados'] = (schedules['recurringUntil'] - schedules['startingDate']).dt.days\n",
        "schedules['quantidade_dias_disponibilizados'] = schedules['quantidade_dias_disponibilizados'].apply(lambda row: row if row != 0 else 1)\n",
        "\n",
        "# 7. Carga disponibilizada em minutos\n",
        "schedules['dias_total'] = schedules.apply(lambda row: row['quantidade_dias_disponibilizados'] if row['recurring'] != 0 or row['recurringUntil'] != None else 1, axis=1)\n",
        "schedules['carga_minutos'] = schedules[['duration', 'dias_total', 'Agendamentos/semana']].prod(axis=1).abs()\n",
        "\n",
        "# 8.\n",
        "schedules['Agendamentos/semana total'] = schedules['Agendamentos/semana'] * (schedules['dias_total'] / 7)"
      ],
      "metadata": {
        "id": "EKOrB4VX1kPx"
      },
      "execution_count": null,
      "outputs": []
    }
  ]
}